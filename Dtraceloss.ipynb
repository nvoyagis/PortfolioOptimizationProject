{
 "cells": [
  {
   "cell_type": "markdown",
   "metadata": {},
   "source": [
    "# D-Trace loss in Sparse Precision Matrix - Implementation"
   ]
  },
  {
   "cell_type": "markdown",
   "metadata": {},
   "source": [
    "Based on the research Sparse precision matrix estimation via lasso penalized D-trace loss by Teng Zhang and Hui Zou"
   ]
  },
  {
   "cell_type": "code",
   "execution_count": 217,
   "metadata": {},
   "outputs": [],
   "source": [
    "import numpy as np\n",
    "import pandas as pd\n",
    "import yfinance as yf\n",
    "import networkx as nx\n",
    "import matplotlib.pyplot as plt"
   ]
  },
  {
   "cell_type": "code",
   "execution_count": 218,
   "metadata": {},
   "outputs": [],
   "source": [
    "sp500 = pd.read_csv('S&P 500 Companies.csv') #sp500 companies\n",
    "\n",
    "tickers = sp500['Symbol'] #Ticker extraction"
   ]
  },
  {
   "cell_type": "code",
   "execution_count": 219,
   "metadata": {},
   "outputs": [
    {
     "name": "stderr",
     "output_type": "stream",
     "text": [
      "[                       0%                       ]"
     ]
    },
    {
     "name": "stderr",
     "output_type": "stream",
     "text": [
      "[*********************100%***********************]  10 of 10 completed\n"
     ]
    }
   ],
   "source": [
    "randomsp500 = tickers.sample(n = 10) #Sample x random stocks\n",
    "randomsp500 = randomsp500.tolist()\n",
    "\n",
    "start = '2024-06-21'\n",
    "end = '2025-06-21'\n",
    "closes = yf.download(randomsp500, start = start, end = end, auto_adjust = True)['Close'] #Get close data for above timeframe\n",
    "daily_chgs = closes.pct_change().iloc[1:]\n",
    "sigma_hat = np.cov(daily_chgs.T)"
   ]
  },
  {
   "cell_type": "markdown",
   "metadata": {},
   "source": [
    "## Algorithm for estimating precision matrix"
   ]
  },
  {
   "cell_type": "markdown",
   "metadata": {},
   "source": [
    "First we will use algorithm 2, then check eigenvalues to see if positive definiteness is sastisfied"
   ]
  },
  {
   "cell_type": "markdown",
   "metadata": {},
   "source": [
    "First, lets define the auxilary functions"
   ]
  },
  {
   "cell_type": "code",
   "execution_count": 220,
   "metadata": {},
   "outputs": [],
   "source": [
    "def G(A, B):\n",
    "    sigma, U = np.linalg.eigh(A)\n",
    "\n",
    "    sigma_matrix = sigma[:, None] + sigma[None, :]\n",
    "    C = 2 / sigma_matrix\n",
    "\n",
    "    B_tilde = U.T @ B @ U\n",
    "\n",
    "    Theta_tilde = B_tilde * C #Hadamard product\n",
    "\n",
    "    Theta = U @ Theta_tilde @ U.T\n",
    "\n",
    "    return Theta\n",
    "\n",
    "\n",
    "def S(A, lda):\n",
    "    A_new = A.copy()\n",
    "\n",
    "    for i in range(len(A_new)):\n",
    "        for j in range(len(A_new)):\n",
    "            if i != j:\n",
    "                val = A[i, j]\n",
    "\n",
    "                if val > lda:\n",
    "                    A_new[i, j] = val - lda\n",
    "                if val < lda:\n",
    "                    A_new[i, j] = val + lda\n",
    "                else:\n",
    "                    A_new[i, j] = 0\n",
    "    \n",
    "    return A_new"
   ]
  },
  {
   "cell_type": "code",
   "execution_count": 221,
   "metadata": {},
   "outputs": [
    {
     "name": "stdout",
     "output_type": "stream",
     "text": [
      "Precision Matrix is positive definite - good to go\n"
     ]
    }
   ],
   "source": [
    "Theta_0_curr = np.diag(1 / np.diag(sigma_hat))\n",
    "Theta_0_prev = Theta_0_curr.copy()\n",
    "Theta_curr = np.diag(1 / np.diag(sigma_hat))\n",
    "Theta_prev = Theta_curr.copy()\n",
    "\n",
    "Lambda_curr = np.zeros_like(sigma_hat)\n",
    "Lambda_prev = Lambda_curr.copy()\n",
    "\n",
    "rho = 1 #Set rho as hyperparamter of 1 for now\n",
    "lda_n = 1 #Parameter for size of penalty for sprasity\n",
    "\n",
    "epsilon = 1e-7\n",
    "\n",
    "k = 0\n",
    "while k < 10000:\n",
    "    k += 1\n",
    "    \n",
    "    Theta_prev = Theta_curr.copy()\n",
    "\n",
    "    A = sigma_hat + rho * np.eye(len(sigma_hat))\n",
    "    B = np.eye(len(sigma_hat)) + rho * Theta_0_prev - Lambda_curr\n",
    "\n",
    "    Theta_curr = G(A, B)\n",
    "\n",
    "    Theta_0_prev = Theta_0_curr.copy()\n",
    "    \n",
    "    C = Theta_curr + 1 / rho * Lambda_curr\n",
    "    d = 1 / rho * lda_n\n",
    "    Theta_0_curr = S(C, d)\n",
    "\n",
    "    Lambda_prev = Lambda_curr.copy()\n",
    "\n",
    "    Lambda_curr = Lambda_prev + rho * (Theta_curr - Theta_0_curr)\n",
    "\n",
    "    condition1 = np.linalg.norm(Theta_curr - Theta_prev, 'fro') / (max(1, np.linalg.norm(Theta_prev, 'fro'), np.linalg.norm(Theta_curr, 'fro')))\n",
    "    condition2 = np.linalg.norm(Theta_0_curr - Theta_0_prev, 'fro') / (max(1, np.linalg.norm(Theta_0_prev, 'fro'), np.linalg.norm(Theta_0_curr, 'fro')))\n",
    "\n",
    "    if condition1 < epsilon and condition2 < epsilon:\n",
    "        Theta_sparse = Theta_curr\n",
    "        break\n",
    "\n",
    "Theta_sparse = Theta_curr\n",
    "\n",
    "eigenvalues = np.linalg.eigvals(Theta_sparse)\n",
    "\n",
    "nonPDeigs = 0\n",
    "for eig in eigenvalues:\n",
    "    if eig <= 0:\n",
    "        nonPDeigs += 1\n",
    "        print(eig, 'So this is not Positive Definite - use Algorithm 1')\n",
    "\n",
    "if nonPDeigs != 0:\n",
    "    print('Need PD restriction')\n",
    "else:\n",
    "    print('Precision Matrix is positive definite - good to go')"
   ]
  },
  {
   "cell_type": "markdown",
   "metadata": {},
   "source": [
    "The eigenvalues are quite large which is good, indicating this less computational algorithm outputs the same as the other one! Next, lets force small values to be 0 because they are essentially conditionally independent."
   ]
  },
  {
   "cell_type": "code",
   "execution_count": 222,
   "metadata": {},
   "outputs": [],
   "source": [
    "threshold = 1e-2\n",
    "Theta_GMRF = Theta_sparse.copy()\n",
    "\n",
    "# Zero out elements whose absolute value is less than the threshold\n",
    "Theta_GMRF[np.abs(Theta_GMRF) < threshold] = 0.0"
   ]
  },
  {
   "cell_type": "markdown",
   "metadata": {},
   "source": [
    "## Gaussian Markov Random Field"
   ]
  },
  {
   "cell_type": "markdown",
   "metadata": {},
   "source": [
    "Now, we have a sparse precision matrix. We will try to do some analysis using ideas from GMRF"
   ]
  },
  {
   "cell_type": "code",
   "execution_count": 223,
   "metadata": {},
   "outputs": [
    {
     "data": {
      "image/png": "[encoded data removed]",
      "text/plain": [
       "<Figure size 1000x1000 with 1 Axes>"
      ]
     },
     "metadata": {},
     "output_type": "display_data"
    }
   ],
   "source": [
    "tickers = randomsp500 \n",
    "G = nx.Graph()\n",
    "G.add_nodes_from(tickers) \n",
    "\n",
    "n = len(tickers)\n",
    "threshold = 1e-4\n",
    "\n",
    "for i in range(n):\n",
    "    for j in range(i + 1, n):\n",
    "        weight = Theta_GMRF[i, j]\n",
    "        if abs(weight) > threshold:\n",
    "            G.add_edge(tickers[i], tickers[j], weight=weight)\n",
    "\n",
    "pos = nx.spring_layout(G, seed=42)\n",
    "edges = G.edges()\n",
    "weights = [abs(G[u][v]['weight']) for u, v in edges]\n",
    "\n",
    "plt.figure(figsize=(10, 10))\n",
    "nx.draw_networkx_nodes(G, pos, node_size=500, node_color='lightblue')\n",
    "nx.draw_networkx_edges(G, pos, edgelist=edges, width=2, edge_color=weights, edge_cmap=plt.cm.Blues)\n",
    "nx.draw_networkx_labels(G, pos, font_size=10, font_weight='bold')\n",
    "plt.title(\"Graph Based on Conditional Independence from Sparse Precision Matrix\", fontsize=14)\n",
    "plt.axis('off')\n",
    "plt.show()"
   ]
  },
  {
   "cell_type": "code",
   "execution_count": 232,
   "metadata": {},
   "outputs": [
    {
     "name": "stdout",
     "output_type": "stream",
     "text": [
      "[[3.80838286e+03 5.85790899e-01 0.00000000e+00 0.00000000e+00\n",
      "  0.00000000e+00 1.99970329e+00 1.44495514e+00 0.00000000e+00\n",
      "  0.00000000e+00 0.00000000e+00]\n",
      " [5.85790899e-01 1.74560108e+03 0.00000000e+00 0.00000000e+00\n",
      "  0.00000000e+00 0.00000000e+00 1.49432795e+00 0.00000000e+00\n",
      "  0.00000000e+00 0.00000000e+00]\n",
      " [0.00000000e+00 0.00000000e+00 1.63034925e+03 1.47275824e+00\n",
      "  0.00000000e+00 1.98054291e+00 1.43529642e+00 0.00000000e+00\n",
      "  2.66328592e+00 0.00000000e+00]\n",
      " [0.00000000e+00 0.00000000e+00 1.47275824e+00 1.30250492e+03\n",
      "  0.00000000e+00 1.80589019e+00 6.08497076e-01 0.00000000e+00\n",
      "  1.41085458e+00 0.00000000e+00]\n",
      " [0.00000000e+00 0.00000000e+00 0.00000000e+00 0.00000000e+00\n",
      "  1.02769348e+03 0.00000000e+00 0.00000000e+00 0.00000000e+00\n",
      "  0.00000000e+00 5.97521724e-01]\n",
      " [1.99970329e+00 0.00000000e+00 1.98054291e+00 1.80589019e+00\n",
      "  0.00000000e+00 3.38779919e+03 1.61999268e+00 0.00000000e+00\n",
      "  0.00000000e+00 1.82511458e+00]\n",
      " [1.44495514e+00 1.49432795e+00 1.43529642e+00 6.08497076e-01\n",
      "  0.00000000e+00 1.61999268e+00 2.24816928e+03 0.00000000e+00\n",
      "  1.48872207e+00 0.00000000e+00]\n",
      " [0.00000000e+00 0.00000000e+00 0.00000000e+00 0.00000000e+00\n",
      "  0.00000000e+00 0.00000000e+00 0.00000000e+00 1.49987446e+03\n",
      "  0.00000000e+00 0.00000000e+00]\n",
      " [0.00000000e+00 0.00000000e+00 2.66328592e+00 1.41085458e+00\n",
      "  0.00000000e+00 0.00000000e+00 1.48872207e+00 0.00000000e+00\n",
      "  9.53852533e+02 0.00000000e+00]\n",
      " [0.00000000e+00 0.00000000e+00 0.00000000e+00 0.00000000e+00\n",
      "  5.97521724e-01 1.82511458e+00 0.00000000e+00 0.00000000e+00\n",
      "  0.00000000e+00 2.81758533e+03]]\n",
      "['APH', 'DAL', 'BLDR', 'TPL', 'RL', 'BA', 'POOL', 'HSY', 'USB', 'ANSS']\n"
     ]
    }
   ],
   "source": [
    "print(Theta_GMRF)\n",
    "print(randomsp500)"
   ]
  },
  {
   "cell_type": "code",
   "execution_count": 233,
   "metadata": {},
   "outputs": [
    {
     "name": "stdout",
     "output_type": "stream",
     "text": [
      "Ticker\n",
      "ANSS    0.000247\n",
      "APH     0.001575\n",
      "BA      0.000780\n",
      "BLDR   -0.000507\n",
      "DAL     0.000337\n",
      "HSY     0.000033\n",
      "POOL   -0.000357\n",
      "RL      0.001882\n",
      "TPL     0.002055\n",
      "USB     0.000709\n",
      "dtype: float64\n"
     ]
    }
   ],
   "source": [
    "mean_rets = daily_chgs.mean()\n",
    "cov_rets = np.linalg.inv(Theta_GMRF)\n",
    "print(mean_rets)"
   ]
  }
 ],
 "metadata": {
  "kernelspec": {
   "display_name": "Python 3",
   "language": "python",
   "name": "python3"
  },
  "language_info": {
   "codemirror_mode": {
    "name": "ipython",
    "version": 3
   },
   "file_extension": ".py",
   "mimetype": "text/x-python",
   "name": "python",
   "nbconvert_exporter": "python",
   "pygments_lexer": "ipython3",
   "version": "3.12.2"
  }
 },
 "nbformat": 4,
 "nbformat_minor": 2
}
